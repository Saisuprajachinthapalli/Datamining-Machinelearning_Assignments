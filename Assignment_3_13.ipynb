{
  "nbformat": 4,
  "nbformat_minor": 0,
  "metadata": {
    "colab": {
      "provenance": []
    },
    "kernelspec": {
      "name": "python3",
      "display_name": "Python 3"
    },
    "language_info": {
      "name": "python"
    }
  },
  "cells": [
    {
      "cell_type": "code",
      "execution_count": 4,
      "metadata": {
        "id": "6DVA6YxxIDuP"
      },
      "outputs": [],
      "source": [
        "import numpy as np\n",
        "\n",
        "def forward(X):\n",
        "    # Feedforward\n",
        "    # we assume there is a dummy input X0. Therefore, no need of bias notation.\n",
        "    hidden_input = np.dot(X, hidden_weights)\n",
        "    hidden_output = sigmoid(hidden_input)\n",
        "\n",
        "    output_input = np.dot(hidden_output, output_weights)\n",
        "    output_output = sigmoid(output_input)\n",
        "\n",
        "    return hidden_output, output_output\n",
        "\n",
        "# Activation function: Sigmoid\n",
        "def sigmoid(x):\n",
        "  return 1 / (1 + np.exp(-x))\n",
        "\n",
        "\n",
        "\n",
        "# Args: x (numpy.ndarray): The input value or vector.\n",
        "\n",
        "# Returns: numpy.ndarray: The output value(s) after applying the sigmoid function.\n"
      ]
    },
    {
      "cell_type": "code",
      "source": [
        "def sigmoid_derivative(x):\n",
        "\n",
        "    sigmoid_x = sigmoid(x)\n",
        "    return sigmoid_x * (1 - sigmoid_x)\n",
        "\n",
        "#  Computes the derivative of the sigmoid function.\n",
        "#  Args: x (numpy.ndarray): The input value or vector.\n",
        "# Returns: numpy.ndarray: The derivative of the sigmoid function evaluated at x.\n",
        "\n"
      ],
      "metadata": {
        "id": "yjZ5AKr3JU-H"
      },
      "execution_count": 3,
      "outputs": []
    },
    {
      "cell_type": "code",
      "source": [
        "# XOR dataset\n",
        "X = np.array([[1, 0, 0],\n",
        "              [1, 1, 0],\n",
        "              [1, 0, 1],\n",
        "              [1, 1, 1]])\n",
        "\n",
        "# Target values\n",
        "y = np.array([[0],\n",
        "              [1],\n",
        "              [1],\n",
        "              [0]])\n",
        "\n",
        "# Number of input nodes (including the dummy input)\n",
        "input_nodes = 3\n",
        "\n"
      ],
      "metadata": {
        "id": "KphUHLrjKG1c"
      },
      "execution_count": 2,
      "outputs": []
    },
    {
      "cell_type": "code",
      "source": [
        "X = np.array([[0, 0], [0, 1], [1, 0], [1, 1]])  # Input features (x1, x2)\n",
        "Y = np.array([[0], [1], [1], [0]])  # Target values\n",
        "\n",
        "input_nodes = 2  # Number of input nodes\n",
        "hidden_nodes = 2  # Number of hidden nodes\n",
        "output_nodes = 1  # Number of output nodes\n",
        "\n",
        "# Randomly initialize weights and biases between (0,1)\n",
        "# hidden_weights: weights connecting input layer nodes to hidden layer nodes\n",
        "# output_weights: weights connecting hidden layer nodes to output node\n",
        "\n",
        "hidden_weights = np.random.uniform(size=(input_nodes, hidden_nodes))\n",
        "output_weights = np.random.uniform(size=(hidden_nodes, output_nodes))\n",
        "\n",
        "# Learning rate. You can change this\n",
        "lrate = 0.1\n",
        "\n",
        "# Number of iteration. You can change this\n",
        "no_iter = 10000\n",
        "\n",
        "# Backpropagation training\n",
        "for iter in range(no_iter):\n",
        "\n",
        "    # forward step\n",
        "    # hidden_output: outputs of hidden layer nodes\n",
        "    # output_output: output of output layer node\n",
        "    hidden_output, output_output = forward(X)\n",
        "\n",
        "    # Compute error\n",
        "    error = Y - output_output\n",
        "    output_error = error * output_output * (1 - output_output)\n",
        "\n",
        "    # Calculate the error at the hidden layer\n",
        "    hidden_error = np.dot(output_error, output_weights.T) * hidden_output * (1 - hidden_output)\n",
        "\n",
        "# Update the weights\n",
        "output_weights += lrate * np.dot(hidden_output.T, output_error)\n",
        "hidden_weights += lrate * np.dot(X.T, hidden_error)"
      ],
      "metadata": {
        "id": "MVhXrnjxKblX"
      },
      "execution_count": 6,
      "outputs": []
    },
    {
      "cell_type": "code",
      "source": [
        "output_weights += lrate * np.dot(hidden_output.T, output_error)\n",
        "\n",
        "# Update hidden weights (considering k=1 for the single output node)\n",
        "hidden_weights += lrate * np.dot(X.T, hidden_error * hidden_output * (1 - hidden_output))\n",
        "\n",
        "    # Print error every 100 iter for monitoring\n",
        "if iter % 100 == 0:\n",
        "      print(f\"Epoch {iter} Error is {np.mean(np.abs(error))}\")\n",
        "\n",
        "\n",
        "# predict using training data\n",
        "_, nn_output = forward(X)\n",
        "print(nn_output)\n",
        "\n"
      ],
      "metadata": {
        "colab": {
          "base_uri": "https://localhost:8080/"
        },
        "id": "GrXYd5_ILXfX",
        "outputId": "82c758ff-17d4-46d0-dd58-7ba15ecc7219"
      },
      "execution_count": 7,
      "outputs": [
        {
          "output_type": "stream",
          "name": "stdout",
          "text": [
            "[[0.64942865]\n",
            " [0.67781916]\n",
            " [0.67645527]\n",
            " [0.70250581]]\n"
          ]
        }
      ]
    }
  ]
}