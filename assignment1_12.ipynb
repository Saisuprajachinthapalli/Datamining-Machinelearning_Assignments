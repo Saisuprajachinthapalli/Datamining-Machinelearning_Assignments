{
  "nbformat": 4,
  "nbformat_minor": 0,
  "metadata": {
    "colab": {
      "provenance": []
    },
    "kernelspec": {
      "name": "python3",
      "display_name": "Python 3"
    },
    "language_info": {
      "name": "python"
    }
  },
  "cells": [
    {
      "cell_type": "code",
      "execution_count": 6,
      "metadata": {
        "colab": {
          "base_uri": "https://localhost:8080/"
        },
        "id": "htvwwLhJAtmI",
        "outputId": "2acb0cc5-71d5-4c1d-b182-f533b78e2c1c"
      },
      "outputs": [
        {
          "output_type": "stream",
          "name": "stdout",
          "text": [
            "   sepal length (cm)  sepal width (cm)  petal length (cm)  petal width (cm)  \\\n",
            "0                5.1               3.5                1.4               0.2   \n",
            "1                4.9               3.0                1.4               0.2   \n",
            "2                4.7               3.2                1.3               0.2   \n",
            "3                4.6               3.1                1.5               0.2   \n",
            "4                5.0               3.6                1.4               0.2   \n",
            "\n",
            "   sepal length (cm)_ew  sepal width (cm)_ew  petal length (cm)_ew  \\\n",
            "0                   0.0                  1.0                   0.0   \n",
            "1                   0.0                  1.0                   0.0   \n",
            "2                   0.0                  1.0                   0.0   \n",
            "3                   0.0                  1.0                   0.0   \n",
            "4                   0.0                  1.0                   0.0   \n",
            "\n",
            "   petal width (cm)_ew  sepal length (cm)_ef  sepal width (cm)_ef  \\\n",
            "0                  0.0                   0.0                  2.0   \n",
            "1                  0.0                   0.0                  1.0   \n",
            "2                  0.0                   0.0                  2.0   \n",
            "3                  0.0                   0.0                  1.0   \n",
            "4                  0.0                   0.0                  2.0   \n",
            "\n",
            "   petal length (cm)_ef  petal width (cm)_ef  \n",
            "0                   0.0                  0.0  \n",
            "1                   0.0                  0.0  \n",
            "2                   0.0                  0.0  \n",
            "3                   0.0                  0.0  \n",
            "4                   0.0                  0.0  \n"
          ]
        }
      ],
      "source": [
        "# Discretization using sklearn\n",
        "\n",
        "from sklearn.datasets import load_iris\n",
        "from sklearn.preprocessing import KBinsDiscretizer\n",
        "import pandas as pd\n",
        "\n",
        "dataset = load_iris()\n",
        "\n",
        "features = dataset.data\n",
        "response = dataset.target\n",
        "\n",
        "feature_names = dataset.feature_names\n",
        "\n",
        "df = pd.DataFrame(features, columns=feature_names)\n",
        "\n",
        "equal_width_binner = KBinsDiscretizer(n_bins=3, encode='ordinal', strategy='uniform', subsample=None)\n",
        "equal_width_discretized = equal_width_binner.fit_transform(features)\n",
        "\n",
        "equal_frequency_binner = KBinsDiscretizer(n_bins=3, encode='ordinal', strategy='quantile', subsample=None)\n",
        "equal_frequency_discretized = equal_frequency_binner.fit_transform(features)\n",
        "\n",
        "equal_width_df = pd.DataFrame(equal_width_discretized, columns=[f\"{name}_ew\" for name in feature_names])\n",
        "equal_frequency_df = pd.DataFrame(equal_frequency_discretized, columns=[f\"{name}_ef\" for name in feature_names])\n",
        "\n",
        "discretized_df = pd.concat([df, equal_width_df, equal_frequency_df], axis=1)\n",
        "\n",
        "print(discretized_df.head())"
      ]
    }
  ]
}