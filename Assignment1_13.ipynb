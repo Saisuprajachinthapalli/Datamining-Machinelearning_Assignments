{
  "nbformat": 4,
  "nbformat_minor": 0,
  "metadata": {
    "colab": {
      "provenance": []
    },
    "kernelspec": {
      "name": "python3",
      "display_name": "Python 3"
    },
    "language_info": {
      "name": "python"
    }
  },
  "cells": [
    {
      "cell_type": "code",
      "execution_count": 1,
      "metadata": {
        "colab": {
          "base_uri": "https://localhost:8080/"
        },
        "id": "UQU3NYR4HTFr",
        "outputId": "b4b431be-5d2d-491f-a478-4c0a47d7e363"
      },
      "outputs": [
        {
          "output_type": "stream",
          "name": "stdout",
          "text": [
            "Frequent Itemsets:\n",
            "    support                     itemsets\n",
            "0       0.8                       (Eggs)\n",
            "1       1.0               (Kidney Beans)\n",
            "2       0.6                       (Milk)\n",
            "3       0.6                      (Onion)\n",
            "4       0.6                     (Yogurt)\n",
            "5       0.8         (Eggs, Kidney Beans)\n",
            "6       0.6                (Eggs, Onion)\n",
            "7       0.6         (Milk, Kidney Beans)\n",
            "8       0.6        (Onion, Kidney Beans)\n",
            "9       0.6       (Kidney Beans, Yogurt)\n",
            "10      0.6  (Eggs, Onion, Kidney Beans)\n",
            "\n",
            "Association Rules:\n",
            "              antecedents            consequents  support  confidence\n",
            "0                  (Eggs)         (Kidney Beans)      0.8        1.00\n",
            "1          (Kidney Beans)                 (Eggs)      0.8        0.80\n",
            "2                  (Eggs)                (Onion)      0.6        0.75\n",
            "3                 (Onion)                 (Eggs)      0.6        1.00\n",
            "4                  (Milk)         (Kidney Beans)      0.6        1.00\n",
            "5                 (Onion)         (Kidney Beans)      0.6        1.00\n",
            "6                (Yogurt)         (Kidney Beans)      0.6        1.00\n",
            "7           (Eggs, Onion)         (Kidney Beans)      0.6        1.00\n",
            "8    (Eggs, Kidney Beans)                (Onion)      0.6        0.75\n",
            "9   (Onion, Kidney Beans)                 (Eggs)      0.6        1.00\n",
            "10                 (Eggs)  (Onion, Kidney Beans)      0.6        0.75\n",
            "11                (Onion)   (Eggs, Kidney Beans)      0.6        1.00\n"
          ]
        }
      ],
      "source": [
        "import pandas as pd\n",
        "from mlxtend.preprocessing import TransactionEncoder\n",
        "from mlxtend.frequent_patterns import apriori, association_rules\n",
        "\n",
        "\n",
        "dataset = [['Milk', 'Onion', 'Nutmeg', 'Kidney Beans', 'Eggs', 'Yogurt'],\n",
        "           ['Dill', 'Onion', 'Nutmeg', 'Kidney Beans', 'Eggs', 'Yogurt'],\n",
        "           ['Milk', 'Apple', 'Kidney Beans', 'Eggs'],\n",
        "           ['Milk', 'Unicorn', 'Corn', 'Kidney Beans', 'Yogurt'],\n",
        "           ['Corn', 'Onion', 'Onion', 'Kidney Beans', 'Ice cream', 'Eggs']]\n",
        "\n",
        "te = TransactionEncoder()\n",
        "te_ary = te.fit(dataset).transform(dataset)\n",
        "df = pd.DataFrame(te_ary, columns=te.columns_)\n",
        "\n",
        "frequent_itemsets = apriori(df, min_support=0.6, use_colnames=True)\n",
        "\n",
        "print(\"Frequent Itemsets:\")\n",
        "print(frequent_itemsets)\n",
        "\n",
        "rules = association_rules(frequent_itemsets, metric=\"confidence\", min_threshold=0.7)\n",
        "\n",
        "print(\"\\nAssociation Rules:\")\n",
        "print(rules[['antecedents', 'consequents', 'support', 'confidence']])\n"
      ]
    }
  ]
}