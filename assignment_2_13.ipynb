{
  "nbformat": 4,
  "nbformat_minor": 0,
  "metadata": {
    "colab": {
      "provenance": []
    },
    "kernelspec": {
      "name": "python3",
      "display_name": "Python 3"
    },
    "language_info": {
      "name": "python"
    }
  },
  "cells": [
    {
      "cell_type": "code",
      "execution_count": 1,
      "metadata": {
        "colab": {
          "base_uri": "https://localhost:8080/"
        },
        "id": "tCMxrrHGwP3P",
        "outputId": "1a5ab5eb-ceb2-45a9-f635-2aaa1ddbad96"
      },
      "outputs": [
        {
          "output_type": "stream",
          "name": "stdout",
          "text": [
            "Correlation coefficient of mean radius: -0.7300285113754563\n",
            "Correlation coefficient of mean texture: -0.4151852998452051\n",
            "Correlation coefficient of mean perimeter: -0.7426355297258337\n",
            "Correlation coefficient of mean area: -0.7089838365853907\n",
            "Correlation coefficient of mean smoothness: -0.35855996508593285\n",
            "Correlation coefficient of mean compactness: -0.5965336775082528\n",
            "Correlation coefficient of mean concavity: -0.6963597071719053\n",
            "Correlation coefficient of mean concave points: -0.7766138400204369\n",
            "Correlation coefficient of mean symmetry: -0.3304985542625469\n",
            "Correlation coefficient of mean fractal dimension: 0.0128376026984319\n",
            "Correlation coefficient of radius error: -0.5671338208247177\n",
            "Correlation coefficient of texture error: 0.008303332973877023\n",
            "Correlation coefficient of perimeter error: -0.5561407034314834\n",
            "Correlation coefficient of area error: -0.5482359402780242\n",
            "Correlation coefficient of smoothness error: 0.06701601057948756\n",
            "Correlation coefficient of compactness error: -0.29299924424885865\n",
            "Correlation coefficient of concavity error: -0.2537297659808306\n",
            "Correlation coefficient of concave points error: -0.4080423327165051\n",
            "Correlation coefficient of symmetry error: 0.0065217558706478955\n",
            "Correlation coefficient of fractal dimension error: -0.07797241739025575\n",
            "Correlation coefficient of worst radius: -0.77645377859504\n",
            "Correlation coefficient of worst texture: -0.4569028213967986\n",
            "Correlation coefficient of worst perimeter: -0.7829141371737594\n",
            "Correlation coefficient of worst area: -0.7338250349210507\n",
            "Correlation coefficient of worst smoothness: -0.4214648610664026\n",
            "Correlation coefficient of worst compactness: -0.590998237841792\n",
            "Correlation coefficient of worst concavity: -0.6596102103692335\n",
            "Correlation coefficient of worst concave points: -0.79356601714127\n",
            "Correlation coefficient of worst symmetry: -0.41629431104861947\n",
            "Correlation coefficient of worst fractal dimension: -0.32387218872082485\n",
            "Correlation coefficient of target: 1.0\n",
            "\n",
            "Top 10 features with highest correlation to target:\n",
            "target                     1.000000\n",
            "smoothness error           0.067016\n",
            "mean fractal dimension     0.012838\n",
            "texture error              0.008303\n",
            "symmetry error             0.006522\n",
            "fractal dimension error   -0.077972\n",
            "concavity error           -0.253730\n",
            "compactness error         -0.292999\n",
            "worst fractal dimension   -0.323872\n",
            "mean symmetry             -0.330499\n",
            "Name: target, dtype: float64\n"
          ]
        }
      ],
      "source": [
        "import pandas as pd\n",
        "import numpy as np\n",
        "from sklearn.datasets import load_breast_cancer\n",
        "\n",
        "data = load_breast_cancer()\n",
        "df = pd.DataFrame(data.data, columns=data.feature_names)\n",
        "df['target'] = pd.Series(data.target)\n",
        "\n",
        "correlation_matrix = df.corr()\n",
        "\n",
        "for feature in correlation_matrix.columns:\n",
        "    print(f\"Correlation coefficient of {feature}: {correlation_matrix[feature]['target']}\")\n",
        "\n",
        "top_10_features = correlation_matrix['target'].sort_values(ascending=False).head(10)\n",
        "print(f\"\\nTop 10 features with highest correlation to target:\\n{top_10_features}\")"
      ]
    }
  ]
}