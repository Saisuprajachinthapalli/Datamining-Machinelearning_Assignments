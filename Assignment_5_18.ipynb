{
  "nbformat": 4,
  "nbformat_minor": 0,
  "metadata": {
    "colab": {
      "provenance": []
    },
    "kernelspec": {
      "name": "python3",
      "display_name": "Python 3"
    },
    "language_info": {
      "name": "python"
    }
  },
  "cells": [
    {
      "cell_type": "code",
      "execution_count": 3,
      "metadata": {
        "colab": {
          "base_uri": "https://localhost:8080/"
        },
        "id": "tL3wIymCeS_S",
        "outputId": "0aae87a2-3c62-48c7-a818-f612829cda11"
      },
      "outputs": [
        {
          "output_type": "stream",
          "name": "stdout",
          "text": [
            "First 5 data points of X_train and y_train:\n",
            "[[3.74540119]\n",
            " [9.50714306]\n",
            " [7.31993942]\n",
            " [5.98658484]\n",
            " [1.5601864 ]] [16.4102977  32.92341449 27.14333981 18.9846167   9.24121544]\n",
            "----------------------------------------------------------------\n",
            "h_0 (mean of y_i): 19.103261581011562\n"
          ]
        }
      ],
      "source": [
        "import numpy as np\n",
        "from sklearn.tree import DecisionTreeRegressor\n",
        "from sklearn.metrics import mean_squared_error\n",
        "\n",
        "np.random.seed(42)\n",
        "X_train = np.random.rand(100, 1) * 10\n",
        "y_train = 3 * X_train.flatten() + 5 + np.random.randn(100) * 2\n",
        "\n",
        "print(\"First 5 data points of X_train and y_train:\")\n",
        "print(X_train[:5], y_train[:5])\n",
        "\n",
        "print('----------------------------------------------------------------')\n",
        "\n",
        "# 18.1)-2 [3 pts] Compute mean of y_i, which is the first weak classifier h_0\n",
        "\n",
        "h_0 = np.mean(y_train)\n",
        "\n",
        "print(f\"h_0 (mean of y_i): {h_0}\")\n",
        "\n",
        "H_t = np.array([h_0] * len(y_train))\n"
      ]
    },
    {
      "cell_type": "code",
      "source": [
        "# add weak classifier h_t\n",
        "\n",
        "H_t = np.array([h_0] * len(y_train))\n",
        "T = 3\n",
        "\n",
        "for t in range(1, T):\n",
        "    y_pred_t_minus_1 = H_t\n",
        "    residuals = y_train - y_pred_t_minus_1\n",
        "    print(f\"Residuals (revised Y_train) at iteration {t}:\")\n",
        "    print(residuals[:5])\n",
        "\n",
        "    Y_train_residuals = residuals\n",
        "    model = DecisionTreeRegressor(max_depth=3)\n",
        "    model.fit(X_train, Y_train_residuals)\n",
        "    y_pred_residuals = model.predict(X_train)\n",
        "    H_t += y_pred_residuals\n",
        "    print(f\"Updated predictions at iteration {t}:\")\n",
        "    print(H_t[:5])\n",
        "\n",
        "\n"
      ],
      "metadata": {
        "colab": {
          "base_uri": "https://localhost:8080/"
        },
        "id": "UcKGKWAgg5pL",
        "outputId": "0d837e07-5ed1-4933-8def-044662ba3f2d"
      },
      "execution_count": 4,
      "outputs": [
        {
          "output_type": "stream",
          "name": "stdout",
          "text": [
            "Residuals (revised Y_train) at iteration 1:\n",
            "[-2.69296388 13.82015291  8.04007823 -0.11864488 -9.86204614]\n",
            "Updated predictions at iteration 1:\n",
            "[16.84178904 32.9476559  28.27914665 21.12253359 10.18159537]\n",
            "Residuals (revised Y_train) at iteration 2:\n",
            "[-0.43149133 -0.02424141 -1.13580684 -2.13791689 -0.94037994]\n",
            "Updated predictions at iteration 2:\n",
            "[16.60094946 33.14178205 28.4732728  21.31665974  9.9407558 ]\n"
          ]
        }
      ]
    },
    {
      "cell_type": "code",
      "source": [
        "from sklearn.tree import DecisionTreeRegressor, export_text\n",
        "\n",
        "model = DecisionTreeRegressor(max_depth=3)\n",
        "model.fit(X_train, Y_train_residuals)\n",
        "\n",
        "tree_rules = export_text(model, feature_names=['X'])\n",
        "print(\"Decision Tree Rules (Weak Classifier h_t):\")\n",
        "print(tree_rules)\n",
        "\n",
        "# Make predictions using the new weak classifier h_t\n",
        "y_pred_residuals = model.predict(X_train)\n",
        "H_t += y_pred_residuals\n",
        "print(f\"Updated predictions at iteration {t} (H_t):\")\n",
        "print(H_t[:5])\n"
      ],
      "metadata": {
        "colab": {
          "base_uri": "https://localhost:8080/"
        },
        "id": "hTGve8bQhYM2",
        "outputId": "46b08e78-29ee-4a6a-b927-1e8fad4ee5c9"
      },
      "execution_count": 5,
      "outputs": [
        {
          "output_type": "stream",
          "name": "stdout",
          "text": [
            "Decision Tree Rules (Weak Classifier h_t):\n",
            "|--- X <= 9.70\n",
            "|   |--- X <= 9.58\n",
            "|   |   |--- X <= 4.08\n",
            "|   |   |   |--- value: [-0.24]\n",
            "|   |   |--- X >  4.08\n",
            "|   |   |   |--- value: [0.19]\n",
            "|   |--- X >  9.58\n",
            "|   |   |--- X <= 9.68\n",
            "|   |   |   |--- value: [-2.82]\n",
            "|   |   |--- X >  9.68\n",
            "|   |   |   |--- value: [-0.84]\n",
            "|--- X >  9.70\n",
            "|   |--- X <= 9.78\n",
            "|   |   |--- value: [1.81]\n",
            "|   |--- X >  9.78\n",
            "|   |   |--- value: [3.22]\n",
            "\n",
            "Updated predictions at iteration 2 (H_t):\n",
            "[16.36010989 33.3359082  28.66739895 21.51078589  9.69991623]\n"
          ]
        }
      ]
    },
    {
      "cell_type": "code",
      "source": [
        "weighted_sum = np.sum(Y_train_residuals * y_pred_residuals)\n",
        "\n",
        "if weighted_sum < 0:\n",
        "    H_t += y_pred_residuals\n",
        "    print(f\"Iteration {t}: Ensemble updated. Weighted sum: {weighted_sum}\")\n",
        "else:\n",
        "   print(f\"Iteration {t}: Stopping. Final ensemble reached. Weighted sum: {weighted_sum}\")\n"
      ],
      "metadata": {
        "colab": {
          "base_uri": "https://localhost:8080/"
        },
        "id": "6zPr9BJ5h8K-",
        "outputId": "39c5d088-d350-4289-f141-ed1e58dde794"
      },
      "execution_count": 7,
      "outputs": [
        {
          "output_type": "stream",
          "name": "stdout",
          "text": [
            "Iteration 2: Stopping. Final ensemble reached. Weighted sum: 26.8421104116092\n"
          ]
        }
      ]
    }
  ]
}